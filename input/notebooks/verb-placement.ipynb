{
 "cells": [
  {
   "cell_type": "code",
   "execution_count": null,
   "id": "17966fc9",
   "metadata": {},
   "outputs": [],
   "source": []
  },
  {
   "cell_type": "code",
   "execution_count": 2,
   "id": "065b13a6",
   "metadata": {},
   "outputs": [],
   "source": [
    "# Verb Placement in Learner German\n",
    "#This notebook explores the placement of verbs in learner German texts. It uses CEFR levels and tokenized sentences to compare verb-second (V2) and verb-final (VF) patterns across corpora.\n"
   ]
  },
  {
   "cell_type": "code",
   "execution_count": 3,
   "id": "b28b9533",
   "metadata": {},
   "outputs": [],
   "source": [
    "import pandas as pd\n",
    "import matplotlib.pyplot as plt\n",
    "import seaborn as sns\n",
    "import re\n"
   ]
  },
  {
   "cell_type": "code",
   "execution_count": 4,
   "id": "4869014e",
   "metadata": {},
   "outputs": [
    {
     "data": {
      "text/html": [
       "<div>\n",
       "<style scoped>\n",
       "    .dataframe tbody tr th:only-of-type {\n",
       "        vertical-align: middle;\n",
       "    }\n",
       "\n",
       "    .dataframe tbody tr th {\n",
       "        vertical-align: top;\n",
       "    }\n",
       "\n",
       "    .dataframe thead th {\n",
       "        text-align: right;\n",
       "    }\n",
       "</style>\n",
       "<table border=\"1\" class=\"dataframe\">\n",
       "  <thead>\n",
       "    <tr style=\"text-align: right;\">\n",
       "      <th></th>\n",
       "      <th>title</th>\n",
       "      <th>modality</th>\n",
       "      <th>task_type</th>\n",
       "      <th>size_texts</th>\n",
       "      <th>size_in_tokens</th>\n",
       "      <th>language</th>\n",
       "      <th>l1</th>\n",
       "      <th>proficiency</th>\n",
       "      <th>pt_stages_observed</th>\n",
       "      <th>access</th>\n",
       "      <th>pid</th>\n",
       "      <th>version</th>\n",
       "      <th>source</th>\n",
       "      <th>unique_handle</th>\n",
       "    </tr>\n",
       "  </thead>\n",
       "  <tbody>\n",
       "    <tr>\n",
       "      <th>0</th>\n",
       "      <td>Dummy Corpus 1</td>\n",
       "      <td>written</td>\n",
       "      <td>narrative</td>\n",
       "      <td>382</td>\n",
       "      <td>6494</td>\n",
       "      <td>de</td>\n",
       "      <td>German</td>\n",
       "      <td>A2</td>\n",
       "      <td>stage3</td>\n",
       "      <td>Open</td>\n",
       "      <td>pid-1</td>\n",
       "      <td>1.0</td>\n",
       "      <td>https://example.com/corpus/1</td>\n",
       "      <td>https://handle.org/corpus1</td>\n",
       "    </tr>\n",
       "    <tr>\n",
       "      <th>1</th>\n",
       "      <td>Dummy Corpus 2</td>\n",
       "      <td>spoken</td>\n",
       "      <td>descriptive</td>\n",
       "      <td>114</td>\n",
       "      <td>1254</td>\n",
       "      <td>de</td>\n",
       "      <td>Turkish</td>\n",
       "      <td>B2</td>\n",
       "      <td>stage2</td>\n",
       "      <td>Open</td>\n",
       "      <td>pid-2</td>\n",
       "      <td>1.0</td>\n",
       "      <td>https://example.com/corpus/2</td>\n",
       "      <td>https://handle.org/corpus2</td>\n",
       "    </tr>\n",
       "    <tr>\n",
       "      <th>2</th>\n",
       "      <td>Dummy Corpus 3</td>\n",
       "      <td>spoken</td>\n",
       "      <td>descriptive</td>\n",
       "      <td>55</td>\n",
       "      <td>1100</td>\n",
       "      <td>de</td>\n",
       "      <td>Spanish</td>\n",
       "      <td>A1</td>\n",
       "      <td>stage1</td>\n",
       "      <td>Unknown</td>\n",
       "      <td>pid-3</td>\n",
       "      <td>1.0</td>\n",
       "      <td>https://example.com/corpus/3</td>\n",
       "      <td>https://handle.org/corpus3</td>\n",
       "    </tr>\n",
       "    <tr>\n",
       "      <th>3</th>\n",
       "      <td>Dummy Corpus 4</td>\n",
       "      <td>spoken</td>\n",
       "      <td>descriptive</td>\n",
       "      <td>111</td>\n",
       "      <td>2442</td>\n",
       "      <td>de</td>\n",
       "      <td>Arabic</td>\n",
       "      <td>C1</td>\n",
       "      <td>stage2</td>\n",
       "      <td>Open</td>\n",
       "      <td>pid-4</td>\n",
       "      <td>1.0</td>\n",
       "      <td>https://example.com/corpus/4</td>\n",
       "      <td>https://handle.org/corpus4</td>\n",
       "    </tr>\n",
       "    <tr>\n",
       "      <th>4</th>\n",
       "      <td>Dummy Corpus 5</td>\n",
       "      <td>written</td>\n",
       "      <td>descriptive</td>\n",
       "      <td>432</td>\n",
       "      <td>5184</td>\n",
       "      <td>de</td>\n",
       "      <td>Arabic</td>\n",
       "      <td>B1</td>\n",
       "      <td>stage3</td>\n",
       "      <td>Restricted</td>\n",
       "      <td>pid-5</td>\n",
       "      <td>1.0</td>\n",
       "      <td>https://example.com/corpus/5</td>\n",
       "      <td>https://handle.org/corpus5</td>\n",
       "    </tr>\n",
       "  </tbody>\n",
       "</table>\n",
       "</div>"
      ],
      "text/plain": [
       "            title modality    task_type  size_texts  size_in_tokens language  \\\n",
       "0  Dummy Corpus 1  written    narrative         382            6494       de   \n",
       "1  Dummy Corpus 2   spoken  descriptive         114            1254       de   \n",
       "2  Dummy Corpus 3   spoken  descriptive          55            1100       de   \n",
       "3  Dummy Corpus 4   spoken  descriptive         111            2442       de   \n",
       "4  Dummy Corpus 5  written  descriptive         432            5184       de   \n",
       "\n",
       "        l1 proficiency pt_stages_observed      access    pid  version  \\\n",
       "0   German          A2             stage3        Open  pid-1      1.0   \n",
       "1  Turkish          B2             stage2        Open  pid-2      1.0   \n",
       "2  Spanish          A1             stage1     Unknown  pid-3      1.0   \n",
       "3   Arabic          C1             stage2        Open  pid-4      1.0   \n",
       "4   Arabic          B1             stage3  Restricted  pid-5      1.0   \n",
       "\n",
       "                         source               unique_handle  \n",
       "0  https://example.com/corpus/1  https://handle.org/corpus1  \n",
       "1  https://example.com/corpus/2  https://handle.org/corpus2  \n",
       "2  https://example.com/corpus/3  https://handle.org/corpus3  \n",
       "3  https://example.com/corpus/4  https://handle.org/corpus4  \n",
       "4  https://example.com/corpus/5  https://handle.org/corpus5  "
      ]
     },
     "execution_count": 4,
     "metadata": {},
     "output_type": "execute_result"
    }
   ],
   "source": [
    "df = pd.read_csv(\"C:\\\\Users\\\\Vedang Deshmukh\\\\dakoda-eleventy\\\\input\\\\notebooks\\\\dummy_corpora_metadata.csv\")  # already shared by you\n",
    "df.head()\n"
   ]
  },
  {
   "cell_type": "code",
   "execution_count": 5,
   "id": "a177b4af",
   "metadata": {},
   "outputs": [],
   "source": [
    "texts = [\n",
    "    \"Ich habe das Buch gelesen.\",\n",
    "    \"Weil er müde war, ging er früh ins Bett.\",\n",
    "    \"Sie arbeitet heute im Büro.\",\n",
    "    \"Obwohl es regnete, spielte er draußen.\"\n",
    "]\n",
    "\n",
    "# Simulate CEFR levels\n",
    "meta = ['A2', 'B1', 'B1', 'B2']\n"
   ]
  },
  {
   "cell_type": "code",
   "execution_count": 6,
   "id": "aa3f70ae",
   "metadata": {},
   "outputs": [],
   "source": [
    "def detect_verb_position(sentence):\n",
    "    tokens = sentence.split()\n",
    "    if 'hat' in tokens or 'ist' in tokens:  # Simplified\n",
    "        if tokens.index('hat') == 1 or tokens.index('ist') == 1:\n",
    "            return 'V2'\n",
    "        elif tokens[-1] == 'gelesen.' or tokens[-1] == 'gegangen.':\n",
    "            return 'VF'\n",
    "    return 'Unknown'\n",
    "\n",
    "positions = [detect_verb_position(t) for t in texts]\n",
    "df_verb = pd.DataFrame({'Text': texts, 'CEFR': meta, 'VerbPosition': positions})\n"
   ]
  },
  {
   "cell_type": "code",
   "execution_count": 7,
   "id": "15120f8d",
   "metadata": {},
   "outputs": [
    {
     "data": {
      "image/png": "[encoded data removed]",
      "text/plain": [
       "<Figure size 640x480 with 1 Axes>"
      ]
     },
     "metadata": {},
     "output_type": "display_data"
    }
   ],
   "source": [
    "sns.countplot(data=df_verb, x='CEFR', hue='VerbPosition')\n",
    "plt.title(\"Verb Position by CEFR Level\")\n",
    "plt.show()\n"
   ]
  },
  {
   "cell_type": "code",
   "execution_count": 8,
   "id": "9f2bebbc",
   "metadata": {},
   "outputs": [],
   "source": [
    "def noun_density(tokens, window=5):\n",
    "    return [sum(1 for word in tokens[i:i+window] if word.endswith('en')) / window\n",
    "            for i in range(len(tokens) - window + 1)]\n"
   ]
  }
 ],
 "metadata": {
  "kernelspec": {
   "display_name": "Python 3",
   "language": "python",
   "name": "python3"
  },
  "language_info": {
   "codemirror_mode": {
    "name": "ipython",
    "version": 3
   },
   "file_extension": ".py",
   "mimetype": "text/x-python",
   "name": "python",
   "nbconvert_exporter": "python",
   "pygments_lexer": "ipython3",
   "version": "3.13.1"
  }
 },
 "nbformat": 4,
 "nbformat_minor": 5
}
